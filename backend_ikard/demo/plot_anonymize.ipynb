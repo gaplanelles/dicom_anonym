{
  "cells": [
    {
      "cell_type": "markdown",
      "metadata": {},
      "source": [
        "\n",
        "# Anonymize DICOM data\n",
        "\n",
        "This example is a starting point to anonymize DICOM data.\n",
        "\n",
        "It shows how to read data and replace tags: person names, patient ID,\n",
        "optionally remove curves and private tags, and write the results in a new file.\n"
      ]
    },
    {
      "cell_type": "markdown",
      "metadata": {},
      "source": [
        "## Anonymize a single file\n",
        "\n"
      ]
    },
    {
      "cell_type": "code",
      "execution_count": 2,
      "metadata": {
        "collapsed": false
      },
      "outputs": [
        {
          "name": "stdout",
          "output_type": "stream",
          "text": [
            "(0010, 0020) Patient ID                          LO: '339833062'\n",
            "(0010, 0030) Patient's Birth Date                DA: ''\n"
          ]
        }
      ],
      "source": [
        "# authors : Darcy Mason\n",
        "#           Guillaume Lemaitre <g.lemaitre58@gmail.com>\n",
        "# license : MIT\n",
        "\n",
        "import tempfile\n",
        "import pydicom\n",
        "import matplotlib.pyplot as plt\n",
        "\n",
        "#src dicom\n",
        "dicom_path = \"../dicoms_downloaded/1_ORIGINAL.dcm\"\n",
        "\n",
        "# read dicom\n",
        "ds = pydicom.dcmread(dicom_path)\n",
        "\n",
        "#ds = examples.mr\n",
        "\n",
        "for keyword in [\"PatientID\", \"PatientBirthDate\"]:\n",
        "    print(ds.data_element(keyword))"
      ]
    },
    {
      "cell_type": "markdown",
      "metadata": {},
      "source": [
        "We can define a callback function to find all tags corresponding to a person\n",
        "names inside the dataset. We can also define a callback function to remove\n",
        "curves tags.\n",
        "\n"
      ]
    },
    {
      "cell_type": "code",
      "execution_count": 4,
      "metadata": {
        "collapsed": false
      },
      "outputs": [],
      "source": [
        "def person_names_callback(ds, elem):\n",
        "    if elem.VR == \"PN\":\n",
        "        elem.value = \"anonymous\"\n",
        "\n",
        "\n",
        "def curves_callback(ds, elem):\n",
        "    if elem.tag.group & 0xFF00 == 0x5000:\n",
        "        del ds[elem.tag]"
      ]
    },
    {
      "cell_type": "markdown",
      "metadata": {},
      "source": [
        "We can use the different callback function to iterate through the dataset but\n",
        "also some other tags such that patient ID, etc.\n",
        "\n"
      ]
    },
    {
      "cell_type": "code",
      "execution_count": 5,
      "metadata": {
        "collapsed": false
      },
      "outputs": [],
      "source": [
        "ds.PatientID = \"id\"\n",
        "ds.walk(person_names_callback)\n",
        "ds.walk(curves_callback)"
      ]
    },
    {
      "cell_type": "markdown",
      "metadata": {},
      "source": [
        "pydicom allows to remove private tags using ``remove_private_tags`` method\n",
        "\n"
      ]
    },
    {
      "cell_type": "code",
      "execution_count": 6,
      "metadata": {
        "collapsed": false
      },
      "outputs": [],
      "source": [
        "ds.remove_private_tags()"
      ]
    },
    {
      "cell_type": "markdown",
      "metadata": {},
      "source": [
        "Data elements of type 3 (optional) can be easily deleted using ``del`` or\n",
        "``delattr``.\n",
        "\n"
      ]
    },
    {
      "cell_type": "code",
      "execution_count": 7,
      "metadata": {
        "collapsed": false
      },
      "outputs": [],
      "source": [
        "if \"OtherPatientIDs\" in ds:\n",
        "    delattr(ds, \"OtherPatientIDs\")\n",
        "\n",
        "if \"OtherPatientIDsSequence\" in ds:\n",
        "    del ds.OtherPatientIDsSequence"
      ]
    },
    {
      "cell_type": "markdown",
      "metadata": {},
      "source": [
        "For data elements of type 2, this is possible to blank it by assigning a\n",
        "blank string.\n",
        "\n"
      ]
    },
    {
      "cell_type": "code",
      "execution_count": 8,
      "metadata": {
        "collapsed": false
      },
      "outputs": [],
      "source": [
        "tag = \"PatientBirthDate\"\n",
        "if tag in ds:\n",
        "    ds.data_element(tag).value = \"19000101\""
      ]
    },
    {
      "cell_type": "markdown",
      "metadata": {},
      "source": [
        "Finally, this is possible to store the image\n",
        "\n"
      ]
    },
    {
      "cell_type": "code",
      "execution_count": 10,
      "metadata": {
        "collapsed": false
      },
      "outputs": [
        {
          "name": "stdout",
          "output_type": "stream",
          "text": [
            "(0010, 0020) Patient ID                          LO: 'id'\n",
            "(0010, 0030) Patient's Birth Date                DA: '19000101'\n"
          ]
        }
      ],
      "source": [
        "for keyword in [\"PatientID\", \"PatientBirthDate\"]:\n",
        "    print(ds.data_element(keyword))\n",
        "\n",
        "path = tempfile.NamedTemporaryFile().name\n",
        "ds.save_as(\"output-2.dcm\")"
      ]
    },
    {
      "cell_type": "code",
      "execution_count": 3,
      "metadata": {},
      "outputs": [
        {
          "name": "stdout",
          "output_type": "stream",
          "text": [
            "Dataset.file_meta -------------------------------\n",
            "(0002, 0002) Media Storage SOP Class UID         UI: Secondary Capture Image Storage\n",
            "(0002, 0003) Media Storage SOP Instance UID      UI: 1.2.826.0.1.3680043.8.498.94650191124222492089842785732057361379\n",
            "(0002, 0010) Transfer Syntax UID                 UI: Explicit VR Little Endian\n",
            "(0002, 0012) Implementation Class UID            UI: 1.2.826.0.1.3680043.8.498.1\n",
            "-------------------------------------------------\n",
            "(0008, 0016) SOP Class UID                       UI: Secondary Capture Image Storage\n",
            "(0008, 0018) SOP Instance UID                    UI: 1.2.826.0.1.3680043.8.498.94650191124222492089842785732057361379\n",
            "(0008, 0023) Content Date                        DA: '20240528'\n",
            "(0008, 0033) Content Time                        TM: '105350'\n",
            "(0010, 0010) Patient's Name                      PN: 'Anonymized'\n",
            "(0010, 0020) Patient ID                          LO: 'Anonymized'\n",
            "(0020, 000d) Study Instance UID                  UI: 1.2.826.0.1.3680043.8.498.10410996799485309350329501822581912448\n",
            "(0020, 000e) Series Instance UID                 UI: 1.2.826.0.1.3680043.8.498.31279932572550001165674024065669432292\n",
            "(0028, 0002) Samples per Pixel                   US: 1\n",
            "(0028, 0004) Photometric Interpretation          CS: 'MONOCHROME2'\n",
            "(0028, 0010) Rows                                US: 2022\n",
            "(0028, 0011) Columns                             US: 2022\n",
            "(0028, 0100) Bits Allocated                      US: 8\n",
            "(0028, 0101) Bits Stored                         US: 8\n",
            "(0028, 0102) High Bit                            US: 7\n",
            "(0028, 0103) Pixel Representation                US: 0\n",
            "(7fe0, 0010) Pixel Data                          OB: Array of 4088484 elements\n"
          ]
        }
      ],
      "source": [
        "#src dicom\n",
        "dicom_path = \"../dicom_processed/anonymized_1_ORIGINAL.dcm\"\n",
        "\n",
        "# read dicom\n",
        "dicom_data = pydicom.dcmread(dicom_path, force=True)\n",
        "\n",
        "#ds = examples.mr\n",
        "\n",
        "print(dicom_data)"
      ]
    },
    {
      "cell_type": "code",
      "execution_count": 26,
      "metadata": {},
      "outputs": [
        {
          "name": "stdout",
          "output_type": "stream",
          "text": [
            "Imagen guardada en ../dicoms_downloaded/1_ORIGINAL.dcm.png\n"
          ]
        }
      ],
      "source": [
        "# Obtener el array de píxeles\n",
        "pixel_array = dicom_data.pixel_array\n",
        "\n",
        "# Crear la figura y el eje\n",
        "fig, ax = plt.subplots()\n",
        "\n",
        "# Mostrar la imagen en escala de grises\n",
        "ax.imshow(pixel_array, cmap=plt.cm.gray)\n",
        "\n",
        "# Quitar el título y los ejes\n",
        "ax.set_title(\"\")\n",
        "ax.axis(\"off\")\n",
        "\n",
        "# Guardar la imagen como PNG\n",
        "output_name = dicom_path.split(\"/\")[-1]\n",
        "output_path = f\"../dicoms_downloaded/{output_name}.png\"\n",
        "plt.savefig(output_path, bbox_inches='tight', pad_inches=0)\n",
        "\n",
        "# Cerrar la figura\n",
        "plt.close(fig)\n",
        "\n",
        "print(f\"Imagen guardada en {output_path}\")"
      ]
    },
    {
      "cell_type": "code",
      "execution_count": 16,
      "metadata": {},
      "outputs": [
        {
          "name": "stdout",
          "output_type": "stream",
          "text": [
            "Archivo DICOM guardado como 1_ORIGINAL.dcm\n"
          ]
        }
      ],
      "source": [
        "import pydicom\n",
        "from pydicom.dataset import Dataset, FileDataset\n",
        "import datetime\n",
        "import numpy as np\n",
        "from PIL import Image\n",
        "\n",
        "# Ruta del archivo PNG\n",
        "png_file = '../dicoms_downloaded/1_ORIGINAL.dcm.png'\n",
        "# Ruta del archivo DICOM de salida\n",
        "dicom_file = '1_ORIGINAL.dcm'\n",
        "\n",
        "# Leer la imagen PNG usando Pillow\n",
        "image = Image.open(png_file)\n",
        "image = image.convert('L')  # Convertir a escala de grises\n",
        "np_image = np.array(image)\n",
        "\n",
        "# Crear un nuevo Dataset DICOM\n",
        "ds = Dataset()\n",
        "\n",
        "# Configurar algunos metadatos DICOM básicos\n",
        "ds.PatientName = \"Anonymized\"\n",
        "ds.PatientID = \"Anonymized\"\n",
        "ds.StudyInstanceUID = pydicom.uid.generate_uid()\n",
        "ds.SeriesInstanceUID = pydicom.uid.generate_uid()\n",
        "ds.SOPInstanceUID = pydicom.uid.generate_uid()\n",
        "ds.SOPClassUID = pydicom.uid.SecondaryCaptureImageStorage\n",
        "\n",
        "# Fecha y hora de creación del archivo\n",
        "dt = datetime.datetime.now()\n",
        "ds.ContentDate = dt.strftime('%Y%m%d')\n",
        "ds.ContentTime = dt.strftime('%H%M%S')\n",
        "\n",
        "# Configurar las dimensiones de la imagen\n",
        "ds.SamplesPerPixel = 1\n",
        "ds.PhotometricInterpretation = \"MONOCHROME2\"\n",
        "ds.Rows = np_image.shape[0]\n",
        "ds.Columns = np_image.shape[1]\n",
        "ds.BitsAllocated = 8\n",
        "ds.BitsStored = 8\n",
        "ds.HighBit = 7\n",
        "ds.PixelRepresentation = 0\n",
        "ds.PixelData = np_image.tobytes()\n",
        "\n",
        "# Crear un FileDataset y agregar metadatos necesarios\n",
        "file_meta = pydicom.dataset.FileMetaDataset()\n",
        "file_meta.MediaStorageSOPClassUID = ds.SOPClassUID\n",
        "file_meta.MediaStorageSOPInstanceUID = ds.SOPInstanceUID\n",
        "file_meta.ImplementationClassUID = pydicom.uid.PYDICOM_IMPLEMENTATION_UID\n",
        "file_meta.TransferSyntaxUID = pydicom.uid.ExplicitVRLittleEndian  # Añadir TransferSyntaxUID\n",
        "\n",
        "# Crear el FileDataset con los metadatos del archivo y del conjunto de datos\n",
        "ds.file_meta = file_meta\n",
        "ds.is_little_endian = True\n",
        "ds.is_implicit_VR = False\n",
        "\n",
        "# Guardar el archivo DICOM\n",
        "ds.save_as(dicom_file)\n",
        "\n",
        "print(f'Archivo DICOM guardado como {dicom_file}')\n"
      ]
    }
  ],
  "metadata": {
    "kernelspec": {
      "display_name": "Python 3",
      "language": "python",
      "name": "python3"
    },
    "language_info": {
      "codemirror_mode": {
        "name": "ipython",
        "version": 3
      },
      "file_extension": ".py",
      "mimetype": "text/x-python",
      "name": "python",
      "nbconvert_exporter": "python",
      "pygments_lexer": "ipython3",
      "version": "3.1.undefined"
    }
  },
  "nbformat": 4,
  "nbformat_minor": 0
}
