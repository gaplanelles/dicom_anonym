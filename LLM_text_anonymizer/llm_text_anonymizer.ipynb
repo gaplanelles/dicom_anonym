{
 "cells": [
  {
   "cell_type": "code",
   "execution_count": 2,
   "metadata": {},
   "outputs": [],
   "source": [
    "import cohere\n"
   ]
  },
  {
   "cell_type": "code",
   "execution_count": 3,
   "metadata": {},
   "outputs": [],
   "source": [
    "co = cohere.Client(\n",
    "    api_key=\"kGnfJo4npsMtvYrc6uAehcy8MTA7huKJZ8MH1YJ9\",\n",
    ")\n"
   ]
  },
  {
   "cell_type": "code",
   "execution_count": 12,
   "metadata": {},
   "outputs": [],
   "source": [
    "chat = co.chat(\n",
    "    message=\"Anonimiza los datos sensibles de este texto. Debes sustituir nombres,edad, fechas, numeros de identidad, calles, telefono, email... por una X por cada caracter de la palabra a anonimizar: Anna Nowak, lat 28, mieszka w Krakowie przy ul. Wrzosowa 5/2. Pracuje jako nauczycielka w szkole podstawowej nr 10 w Krakowie. Jej adres e-mail to anna.nowak@example.com, a numer telefonu to +48 500 234 567. Anna ma psa o imieniu Burek i lubi jeździć na rowerze w wolnym czasie. W zeszłym miesiącu Anna wybrała się na wakacje do Gdańska.\",\n",
    "    model=\"command-r-plus\"\n",
    ")\n"
   ]
  },
  {
   "cell_type": "code",
   "execution_count": 13,
   "metadata": {},
   "outputs": [
    {
     "name": "stdout",
     "output_type": "stream",
     "text": [
      "text='XXX Xxxx, lat XX, mieszka w Krakowie przy ul. Xxxxxxx X/X. Pracuje jako nauczycielka w szkole podstawowej nr XX w Krakowie. Jej adres e-mail to xxxxx.xxxxxx@xxxxxx.xx, a numer telefonu to +XX XXX XXX XXX. Anna ma psa o imieniu Burek i lubi jeździć na rowerze w wolnym czasie. W zeszłym miesiącu Anna wybrała się na wakacje do Gdańska.' generation_id='7e0f97c2-8568-4f63-b183-081046da17e9' citations=None documents=None is_search_required=None search_queries=None search_results=None finish_reason='COMPLETE' tool_calls=None chat_history=[Message_User(message='Serías capaz de anonimizar los datos sensibles de este texto? debes sustituir nombres,edad, fechas, numeros de identidad, calles, telefono, email... por una X por cada caracter de la palabra a anonimizar: Anna Nowak, lat 28, mieszka w Krakowie przy ul. Wrzosowa 5/2. Pracuje jako nauczycielka w szkole podstawowej nr 10 w Krakowie. Jej adres e-mail to anna.nowak@example.com, a numer telefonu to +48 500 234 567. Anna ma psa o imieniu Burek i lubi jeździć na rowerze w wolnym czasie. W zeszłym miesiącu Anna wybrała się na wakacje do Gdańska.', tool_calls=None, role='USER'), Message_Chatbot(message='XXX Xxxx, lat XX, mieszka w Krakowie przy ul. Xxxxxxx X/X. Pracuje jako nauczycielka w szkole podstawowej nr XX w Krakowie. Jej adres e-mail to xxxxx.xxxxxx@xxxxxx.xx, a numer telefonu to +XX XXX XXX XXX. Anna ma psa o imieniu Burek i lubi jeździć na rowerze w wolnym czasie. W zeszłym miesiącu Anna wybrała się na wakacje do Gdańska.', tool_calls=None, role='CHATBOT')] prompt=None meta=ApiMeta(api_version=ApiMetaApiVersion(version='1', is_deprecated=None, is_experimental=None), billed_units=ApiMetaBilledUnits(input_tokens=161, output_tokens=101, search_units=None, classifications=None), tokens=ApiMetaTokens(input_tokens=227, output_tokens=101), warnings=None) response_id='55bde86b-b292-457b-b38a-c91fe1d605a7'\n"
     ]
    }
   ],
   "source": [
    "print(chat.text)"
   ]
  },
  {
   "cell_type": "code",
   "execution_count": 16,
   "metadata": {},
   "outputs": [],
   "source": [
    "chat = co.chat(\n",
    "    message=\"Anonimizuj dane wrażliwe z tego tekstu. Musisz zastąpić imiona, wiek, daty, numery identyfikacyjne, ulice, telefony, e-maile, nazwy miast, kraje... literą X za każdy znak słowa do zanonimizowania: Anna Nowak, lat 28, mieszka w Krakowie przy ul. Wrzosowa 5/2. Pracuje jako nauczycielka w szkole podstawowej nr 10 w Krakowie. Jej adres e-mail to anna.nowak@example.com, a numer telefonu to +48 500 234 567. Anna ma psa o imieniu Burek i lubi jeździć na rowerze w wolnym czasie. W zeszłym miesiącu Anna wybrała się na wakacje do Gdańska.\",\n",
    "\n",
    "    model=\"command-r-plus\"\n",
    ")"
   ]
  },
  {
   "cell_type": "code",
   "execution_count": 17,
   "metadata": {},
   "outputs": [
    {
     "name": "stdout",
     "output_type": "stream",
     "text": [
      "text='Xxxx Xxxx, lat 28, mieszka w Xxxxxxxx przy ul. Xxxxxxxx 5/2. Pracuje jako nauczycielka w szkole podstawowej nr 10 w Xxxxxxxx. Jej adres e-mail to xxxxx.xxxxxx@xxxxxx.xx, a numer telefonu to +48 500 234 567. Xxxx ma psa o imieniu Burek i lubi jeździć na rowerze w wolnym czasie. W zeszłym miesiącu Xxxx wybrała się na wakacje do Xxxxxxxx.' generation_id='64e2b8b0-0f5a-4ef2-8913-268593d15531' citations=None documents=None is_search_required=None search_queries=None search_results=None finish_reason='COMPLETE' tool_calls=None chat_history=[Message_User(message='Anonimizuj dane wrażliwe z tego tekstu. Musisz zastąpić imiona, wiek, daty, numery identyfikacyjne, ulice, telefony, e-maile, nazwy miast, kraje... literą X za każdy znak słowa do zanonimizowania: Anna Nowak, lat 28, mieszka w Krakowie przy ul. Wrzosowa 5/2. Pracuje jako nauczycielka w szkole podstawowej nr 10 w Krakowie. Jej adres e-mail to anna.nowak@example.com, a numer telefonu to +48 500 234 567. Anna ma psa o imieniu Burek i lubi jeździć na rowerze w wolnym czasie. W zeszłym miesiącu Anna wybrała się na wakacje do Gdańska.', tool_calls=None, role='USER'), Message_Chatbot(message='Xxxx Xxxx, lat 28, mieszka w Xxxxxxxx przy ul. Xxxxxxxx 5/2. Pracuje jako nauczycielka w szkole podstawowej nr 10 w Xxxxxxxx. Jej adres e-mail to xxxxx.xxxxxx@xxxxxx.xx, a numer telefonu to +48 500 234 567. Xxxx ma psa o imieniu Burek i lubi jeździć na rowerze w wolnym czasie. W zeszłym miesiącu Xxxx wybrała się na wakacje do Xxxxxxxx.', tool_calls=None, role='CHATBOT')] prompt=None meta=ApiMeta(api_version=ApiMetaApiVersion(version='1', is_deprecated=None, is_experimental=None), billed_units=ApiMetaBilledUnits(input_tokens=174, output_tokens=125, search_units=None, classifications=None), tokens=ApiMetaTokens(input_tokens=240, output_tokens=125), warnings=None) response_id='80972904-4ebb-4d0c-936f-b5bbe65c16cc'\n"
     ]
    }
   ],
   "source": [
    "print(chat)"
   ]
  }
 ],
 "metadata": {
  "kernelspec": {
   "display_name": "IKARD",
   "language": "python",
   "name": "python3"
  },
  "language_info": {
   "codemirror_mode": {
    "name": "ipython",
    "version": 3
   },
   "file_extension": ".py",
   "mimetype": "text/x-python",
   "name": "python",
   "nbconvert_exporter": "python",
   "pygments_lexer": "ipython3",
   "version": "3.10.14"
  }
 },
 "nbformat": 4,
 "nbformat_minor": 2
}
