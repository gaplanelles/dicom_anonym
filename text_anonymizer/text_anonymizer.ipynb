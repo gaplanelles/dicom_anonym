{
 "cells": [
  {
   "cell_type": "code",
   "execution_count": 5,
   "metadata": {},
   "outputs": [
    {
     "name": "stdout",
     "output_type": "stream",
     "text": [
      "*PERSON*, lat *AGE*, mieszka w Warszawie przy ul. Nowa 12/3. Pracuje jako programista w firmie TechInnovations od *DATE_TIME*. Jego adres e-mail to *EMAIL*, a numer telefonu to *TELEPHONE_NUMBER* 456. *PERSON* ma dwójkę dzieci: *PERSON* (*AGE*) i Zosia (*AGE*). Jego żona, *PERSON*, jest nauczycielką w szkole podstawowej nr 45 w Warszawie. *PERSON* lubi jeździć na rowerze i grać w gry komputerowe w wolnym czasie. W *DATE_TIME* *PERSON* odbył podróż do Włoch i zwiedził Rzym i Wenecję.\n"
     ]
    }
   ],
   "source": [
    "import oci\n",
    "from oci.config import validate_config\n",
    "import os\n",
    " \n",
    "config = oci.config.from_file()\n",
    "ai_language_client = oci.ai_language.AIServiceLanguageClient(config)\n",
    "texttoanalyse = \"Jan Kowalski, lat 34, mieszka w Warszawie przy ul. Nowa 12/3. Pracuje jako programista w firmie TechInnovations od 2015 roku. Jego adres e-mail to jan.kowalski@example.com, a numer telefonu to +48 600 123 456. Jan ma dwójkę dzieci: Kacper (5 lat) i Zosia (7 lat). Jego żona, Marta Kowalska, jest nauczycielką w szkole podstawowej nr 45 w Warszawie. Jan lubi jeździć na rowerze i grać w gry komputerowe w wolnym czasie. W zeszłym roku Jan odbył podróż do Włoch i zwiedził Rzym i Wenecję.\" # String to analyse for PII\n",
    "text2 = \"hola que tal\"\n",
    "\n",
    "batch_detect_language_pii_entities_response = ai_language_client.batch_detect_language_pii_entities( # Identify PII in the string\n",
    "    batch_detect_language_pii_entities_details=oci.ai_language.models.BatchDetectLanguagePiiEntitiesDetails(\n",
    "        documents=[\n",
    "            oci.ai_language.models.TextDocument(\n",
    "                key=\"String1\",\n",
    "                text=texttoanalyse, \n",
    "                language_code=\"en\")],\n",
    "        compartment_id=\"ocid1.compartment.oc1..aaaaaaaa7rxjpnxxcqparwvybqb3ocpiadljmtfnp5rq35yqib6vvl64pxlq\"))\n",
    " \n",
    "cleansedtext = texttoanalyse # Replace the PII in the string with the type of data it is, for example e-mail address\n",
    "for document in batch_detect_language_pii_entities_response.data.documents:\n",
    "    for entities in document.entities:\n",
    "        cleansedtext = cleansedtext.replace((entities.text),(\"*\" + (entities.type) + \"*\"))\n",
    " \n",
    "print(cleansedtext)"
   ]
  },
  {
   "cell_type": "code",
   "execution_count": 7,
   "metadata": {},
   "outputs": [
    {
     "name": "stdout",
     "output_type": "stream",
     "text": [
      "XXXXXXXXXXXX, lat XX, mieszka w Warszawie przy ul. Nowa 12/3. Pracuje jako programista w firmie TechInnovations od XXXXXXXXX. Jego adres e-mail to XXXXXXXXXXXXXXXXXXXXXXXX, a numer telefonu to XXXXXXXXXXX 456. XXX ma dwójkę dzieci: XXXXXX (XXXXX) i Zosia (XXXXX). Jego żona, XXXXXXXXXXXXXX, jest nauczycielką w szkole podstawowej nr 45 w Warszawie. XXX lubi jeździć na rowerze i grać w gry komputerowe w wolnym czasie. W XXXXXXXXXXXX XXX odbył podróż do Włoch i zwiedził Rzym i Wenecję.\n"
     ]
    }
   ],
   "source": [
    "import oci\n",
    "\n",
    "config = oci.config.from_file()\n",
    "ai_language_client = oci.ai_language.AIServiceLanguageClient(config)\n",
    "texttoanalyse = \"Jan Kowalski, lat 34, mieszka w Warszawie przy ul. Nowa 12/3. Pracuje jako programista w firmie TechInnovations od 2015 roku. Jego adres e-mail to jan.kowalski@example.com, a numer telefonu to +48 600 123 456. Jan ma dwójkę dzieci: Kacper (5 lat) i Zosia (7 lat). Jego żona, Marta Kowalska, jest nauczycielką w szkole podstawowej nr 45 w Warszawie. Jan lubi jeździć na rowerze i grać w gry komputerowe w wolnym czasie. W zeszłym roku Jan odbył podróż do Włoch i zwiedził Rzym i Wenecję.\" # String to analyse for PII\n",
    "text2 = \"hola que tal\"\n",
    "\n",
    "batch_detect_language_pii_entities_response = ai_language_client.batch_detect_language_pii_entities( # Identify PII in the string\n",
    "    batch_detect_language_pii_entities_details=oci.ai_language.models.BatchDetectLanguagePiiEntitiesDetails(\n",
    "        documents=[\n",
    "            oci.ai_language.models.TextDocument(\n",
    "                key=\"String1\",\n",
    "                text=texttoanalyse, \n",
    "                language_code=\"en\")],\n",
    "        compartment_id=\"ocid1.compartment.oc1..aaaaaaaa7rxjpnxxcqparwvybqb3ocpiadljmtfnp5rq35yqib6vvl64pxlq\"))\n",
    "\n",
    "cleansedtext = texttoanalyse # Replace the PII in the string with a string of X's of the same length as the original PII text\n",
    "for document in batch_detect_language_pii_entities_response.data.documents:\n",
    "    for entities in document.entities:\n",
    "        replacement = 'X' * len(entities.text)\n",
    "        cleansedtext = cleansedtext.replace(entities.text, replacement)\n",
    "\n",
    "print(cleansedtext)"
   ]
  },
  {
   "cell_type": "code",
   "execution_count": 12,
   "metadata": {},
   "outputs": [],
   "source": [
    "import oci\n",
    "\n",
    "def deidentify_text(texttoanalyse, compartment_id):\n",
    "    \n",
    "    config = oci.config.from_file()\n",
    "    ai_language_client = oci.ai_language.AIServiceLanguageClient(config)\n",
    "    \n",
    "    \n",
    "    batch_detect_language_pii_entities_response = ai_language_client.batch_detect_language_pii_entities(\n",
    "        batch_detect_language_pii_entities_details=oci.ai_language.models.BatchDetectLanguagePiiEntitiesDetails(\n",
    "            documents=[\n",
    "                oci.ai_language.models.TextDocument(\n",
    "                    key=\"String1\",\n",
    "                    text=texttoanalyse, \n",
    "                    language_code=\"en\")],\n",
    "            compartment_id=compartment_id))\n",
    "    \n",
    "    \n",
    "    cleansedtext = texttoanalyse\n",
    "    for document in batch_detect_language_pii_entities_response.data.documents:\n",
    "        for entities in document.entities:\n",
    "            replacement = 'X' * len(entities.text)\n",
    "            cleansedtext = cleansedtext.replace(entities.text, replacement)\n",
    "            #print(entities.text)\n",
    "    return cleansedtext\n",
    "\n"
   ]
  },
  {
   "cell_type": "code",
   "execution_count": 13,
   "metadata": {},
   "outputs": [
    {
     "name": "stdout",
     "output_type": "stream",
     "text": [
      "XXXXXXXXXXXX, lat XX, mieszka w Warszawie przy ul. Nowa 12/3. Pracuje jako programista w firmie TechInnovations od XXXXXXXXX. Jego adres e-mail to XXXXXXXXXXXXXXXXXXXXXXXX, a numer telefonu to XXXXXXXXXXX 456. XXX ma dwójkę dzieci: XXXXXX (XXXXX) i Zosia (XXXXX). Jego żona, XXXXXXXXXXXXXX, jest nauczycielką w szkole podstawowej nr 45 w Warszawie. XXX lubi jeździć na rowerze i grać w gry komputerowe w wolnym czasie. W XXXXXXXXXXXX XXX odbył podróż do Włoch i zwiedził Rzym i Wenecję.\n"
     ]
    }
   ],
   "source": [
    "\n",
    "# Ejemplo de uso de la función\n",
    "compartment_id = \"ocid1.compartment.oc1..aaaaaaaa7rxjpnxxcqparwvybqb3ocpiadljmtfnp5rq35yqib6vvl64pxlq\"\n",
    "text_to_analyze = \"Jan Kowalski, lat 34, mieszka w Warszawie przy ul. Nowa 12/3. Pracuje jako programista w firmie TechInnovations od 2015 roku. Jego adres e-mail to jan.kowalski@example.com, a numer telefonu to +48 600 123 456. Jan ma dwójkę dzieci: Kacper (5 lat) i Zosia (7 lat). Jego żona, Marta Kowalska, jest nauczycielką w szkole podstawowej nr 45 w Warszawie. Jan lubi jeździć na rowerze i grać w gry komputerowe w wolnym czasie. W zeszłym roku Jan odbył podróż do Włoch i zwiedził Rzym i Wenecję.\"\n",
    "\n",
    "# Llamada a la función para obtener el texto deidentificado\n",
    "deidentified_text = deidentify_text(text_to_analyze, compartment_id)\n",
    "\n",
    "print(deidentified_text)"
   ]
  },
  {
   "cell_type": "code",
   "execution_count": 22,
   "metadata": {},
   "outputs": [
    {
     "name": "stdout",
     "output_type": "stream",
     "text": [
      "Jan Kowalski, 34, lives in Warsaw at ul. New 12/3. He has been working as a developer at TechInnovations since 2015. His email address is jan.kowalski@example.com and his phone number is +48 600 123 456. John has two children: Kacper (5 years old) and Zosia (7 years old). His wife, Marta Kowalska, is a teacher at elementary school No. 45 in Warsaw. Jan likes to ride a bike and play computer games in his spare time. Last year, John made a trip to Italy and visited Rome and Venice\n"
     ]
    }
   ],
   "source": [
    "import oci\n",
    "\n",
    "ai_client = oci.ai_language.AIServiceLanguageClient(oci.config.from_file())\n",
    "\n",
    "key1 = \"doc1\"\n",
    "key2 = \"doc2\"\n",
    "text1 = \"Jan Kowalski, lat 34, mieszka w Warszawie przy ul. Nowa 12/3. Pracuje jako programista w firmie TechInnovations od 2015 roku. Jego adres e-mail to jan.kowalski@example.com, a numer telefonu to +48 600 123 456. Jan ma dwójkę dzieci: Kacper (5 lat) i Zosia (7 lat). Jego żona, Marta Kowalska, jest nauczycielką w szkole podstawowej nr 45 w Warszawie. Jan lubi jeździć na rowerze i grać w gry komputerowe w wolnym czasie. W zeszłym roku Jan odbył podróż do Włoch i zwiedził Rzym i Wenecję\"\n",
    "\n",
    "target_language = \"en\" #TODO specify the target language\n",
    "compartment_id = compartment_id #TODO Provide your compartmentId here\n",
    "\n",
    "doc1 = oci.ai_language.models.TextDocument(key=key1, text=text1, language_code=\"auto\")\n",
    "\n",
    "documents = [doc1]\n",
    "\n",
    "\n",
    "\n",
    "batch_language_translation_details = oci.ai_language.models.BatchLanguageTranslationDetails(documents=documents, compartment_id=compartment_id, target_language_code=target_language)\n",
    "output = ai_client.batch_language_translation (batch_language_translation_details)\n",
    "print(output.data.documents[0].translated_text)\n",
    "\n",
    "text_to_analyze = output.data.documents[0].translated_text\n",
    "\n",
    "config = oci.config.from_file()\n",
    "ai_language_client = oci.ai_language.AIServiceLanguageClient(config)\n",
    "\n",
    "\n",
    "batch_detect_language_pii_entities_response = ai_language_client.batch_detect_language_pii_entities(\n",
    "    batch_detect_language_pii_entities_details=oci.ai_language.models.BatchDetectLanguagePiiEntitiesDetails(\n",
    "        documents=[\n",
    "            oci.ai_language.models.TextDocument(\n",
    "                key=\"String1\",\n",
    "                text=texttoanalyse, \n",
    "                language_code=\"en\")],\n",
    "        compartment_id=compartment_id))\n",
    "\n",
    "\n",
    "cleansedtext = texttoanalyse\n",
    "for document in batch_detect_language_pii_entities_response.data.documents:\n",
    "    for entities in document.entities:\n",
    "        replacement = 'X' * len(entities.text)\n",
    "        cleansedtext = cleansedtext.replace(entities.text, replacement)\n",
    "        #print(entities.text)"
   ]
  },
  {
   "cell_type": "code",
   "execution_count": 21,
   "metadata": {},
   "outputs": [
    {
     "data": {
      "text/plain": [
       "'XXXXXXXXXXXX, lat XX, mieszka w Warszawie przy ul. Nowa 12/3. Pracuje jako programista w firmie TechInnovations od XXXXXXXXX. Jego adres e-mail to XXXXXXXXXXXXXXXXXXXXXXXX, a numer telefonu to XXXXXXXXXXX 456. XXX ma dwójkę dzieci: XXXXXX (XXXXX) i Zosia (XXXXX). Jego żona, XXXXXXXXXXXXXX, jest nauczycielką w szkole podstawowej nr 45 w Warszawie. XXX lubi jeździć na rowerze i grać w gry komputerowe w wolnym czasie. W XXXXXXXXXXXX XXX odbył podróż do Włoch i zwiedził Rzym i Wenecję.'"
      ]
     },
     "execution_count": 21,
     "metadata": {},
     "output_type": "execute_result"
    }
   ],
   "source": [
    "cleansedtext"
   ]
  },
  {
   "cell_type": "code",
   "execution_count": 7,
   "metadata": {},
   "outputs": [],
   "source": [
    "def translate_and_deidentify(text, source_language, target_language, compartment_id):\n",
    "    \n",
    "    config = oci.config.from_file()\n",
    "    ai_client = oci.ai_language.AIServiceLanguageClient(config)\n",
    "    \n",
    "    \n",
    "    doc_key = \"doc1\"\n",
    "    doc = oci.ai_language.models.TextDocument(key=doc_key, text=text, language_code=source_language)\n",
    "    documents = [doc]\n",
    "    \n",
    "    \n",
    "    batch_language_translation_details = oci.ai_language.models.BatchLanguageTranslationDetails(\n",
    "        documents=documents,\n",
    "        compartment_id=compartment_id,\n",
    "        target_language_code=target_language\n",
    "    )\n",
    "    \n",
    "    \n",
    "    translation_response = ai_client.batch_language_translation(batch_language_translation_details)\n",
    "    \n",
    "    \n",
    "    translated_text = translation_response.data.documents[0].translated_text\n",
    "    print(\"Text translated:\", translated_text)\n",
    "    \n",
    "    \n",
    "    ai_language_client = oci.ai_language.AIServiceLanguageClient(config)\n",
    "    \n",
    "    \n",
    "    batch_detect_language_pii_entities_response = ai_language_client.batch_detect_language_pii_entities(\n",
    "        batch_detect_language_pii_entities_details=oci.ai_language.models.BatchDetectLanguagePiiEntitiesDetails(\n",
    "            documents=[\n",
    "                oci.ai_language.models.TextDocument(\n",
    "                    key=\"String1\",\n",
    "                    text=translated_text,\n",
    "                    language_code=target_language\n",
    "                )],\n",
    "            compartment_id=compartment_id\n",
    "        )\n",
    "    )\n",
    "    \n",
    "    \n",
    "    cleansed_text = translated_text\n",
    "    for document in batch_detect_language_pii_entities_response.data.documents:\n",
    "        for entities in document.entities:\n",
    "            replacement = 'X' * len(entities.text)\n",
    "            cleansed_text = cleansed_text.replace(entities.text, replacement)\n",
    "    \n",
    "    return cleansed_text"
   ]
  },
  {
   "cell_type": "code",
   "execution_count": 24,
   "metadata": {},
   "outputs": [
    {
     "name": "stdout",
     "output_type": "stream",
     "text": [
      "Text translated: Jan Kowalski, 34, lives in Warsaw at ul. New 12/3. He has been working as a developer at TechInnovations since 2015. His email address is jan.kowalski@example.com and his phone number is +48 600 123 456. John has two children: Kacper (5 years old) and Zosia (7 years old). His wife, Marta Kowalska, is a teacher at elementary school No. 45 in Warsaw. Jan likes to ride a bike and play computer games in his spare time. Last year, John made a trip to Italy and visited Rome and Venice.\n",
      "XXXXXXXXXXXX, XX, lives in Warsaw at ul. New 12/3. He has been working as a developer at TechInnovations since XXXX. His email address is XXXXXXXXXXXXXXXXXXXXXXXX and his phone number is XXXXXXXXXXXXXXX. XXXX has two children: XXXXXX (XXXXXXX old) and XXXXX (XXXXXXX old). His wife, XXXXXXXXXXXXXX, is a teacher at elementary school No. 45 in Warsaw. XXX likes to ride a bike and play computer games in his spare time. XXXXXXXXX, XXXX made a trip to Italy and visited Rome and Venice.\n"
     ]
    }
   ],
   "source": [
    "\n",
    "\n",
    "compartment_id = \"ocid1.compartment.oc1..aaaaaaaa7rxjpnxxcqparwvybqb3ocpiadljmtfnp5rq35yqib6vvl64pxlq\"\n",
    "text_to_analyze = \"Jan Kowalski, lat 34, mieszka w Warszawie przy ul. Nowa 12/3. Pracuje jako programista w firmie TechInnovations od 2015 roku. Jego adres e-mail to jan.kowalski@example.com, a numer telefonu to +48 600 123 456. Jan ma dwójkę dzieci: Kacper (5 lat) i Zosia (7 lat). Jego żona, Marta Kowalska, jest nauczycielką w szkole podstawowej nr 45 w Warszawie. Jan lubi jeździć na rowerze i grać w gry komputerowe w wolnym czasie. W zeszłym roku Jan odbył podróż do Włoch i zwiedził Rzym i Wenecję.\"\n",
    "\n",
    "\n",
    "deidentified_text = translate_and_deidentify(text_to_analyze, \"auto\", \"en\", compartment_id)\n",
    "\n",
    "\n",
    "print(deidentified_text)"
   ]
  },
  {
   "cell_type": "code",
   "execution_count": 13,
   "metadata": {},
   "outputs": [
    {
     "name": "stdout",
     "output_type": "stream",
     "text": [
      "downloaded \"TEXT_1.txt\" in \"/home/ubuntu/text_anonymizer/txt_downloaded\" from bucket \"Text-Anonymization-bucket\"\n",
      "downloaded \"TEXT_2.txt\" in \"/home/ubuntu/text_anonymizer/txt_downloaded\" from bucket \"Text-Anonymization-bucket\"\n",
      "downloaded \"TEXT_3.txt\" in \"/home/ubuntu/text_anonymizer/txt_downloaded\" from bucket \"Text-Anonymization-bucket\"\n"
     ]
    },
    {
     "data": {
      "text/plain": [
       "True"
      ]
     },
     "execution_count": 13,
     "metadata": {},
     "output_type": "execute_result"
    }
   ],
   "source": [
    "def download_txt(object_storage_path):\n",
    "    CONFIG_PROFILE = \"DEFAULT\"\n",
    "    config = oci.config.from_file('/home/ubuntu/.oci/config', CONFIG_PROFILE) \n",
    "    namespace = \"frkok02ushb5\"\n",
    "    bucket_name = \"Text-Anonymization-bucket\"\n",
    "    prefix = object_storage_path\n",
    "    retrieve_files_loc =\"/home/ubuntu/text_anonymizer/txt_downloaded\"\n",
    "    \n",
    "    validate_config(config)\n",
    "\n",
    "    object_storage_client = oci.object_storage.ObjectStorageClient(config)\n",
    "    object_list = object_storage_client.list_objects(namespace, bucket_name, prefix = prefix , fields=\"name,timeCreated,size\")\n",
    "    #for o in object_list.data.objects:\n",
    "    #    print(o.name)\n",
    "    for filenames in object_list.data.objects:\n",
    "        if not filenames.name.endswith(\"/\"):\n",
    "            target_filename = filenames.name.split(\"/\")[-1]\n",
    "            \n",
    "            get_obj = object_storage_client.get_object(namespace, bucket_name,filenames.name)\n",
    "            with open(retrieve_files_loc+'/'+target_filename,'wb') as f:\n",
    "                for chunk in get_obj.data.raw.stream(1024 * 1024, decode_content=False):\n",
    "                    f.write(chunk)\n",
    "            print(f'downloaded \"{target_filename}\" in \"{retrieve_files_loc}\" from bucket \"{bucket_name}\"')\n",
    "\n",
    "    return True\n",
    "\n",
    "download_txt(\"SRC_TEXT\")"
   ]
  },
  {
   "cell_type": "code",
   "execution_count": 3,
   "metadata": {},
   "outputs": [],
   "source": [
    "def read_all_txt_files(folder_path):\n",
    "\n",
    "\n",
    "    if not os.path.isdir(folder_path):\n",
    "        raise ValueError(f\"Folder '{folder_path}' does not exist.\")\n",
    "    \n",
    "    \n",
    "    for filename in os.listdir(folder_path):\n",
    "        print(filename)\n",
    "        if filename.endswith(\".txt\"):\n",
    "            file_path = os.path.join(folder_path, filename)\n",
    "            \n",
    "            with open(file_path, 'r', encoding='utf-8') as file:\n",
    "                \n",
    "                content = file.read()\n",
    "                \n",
    "                print(content)\n",
    "                compartment_id = \"ocid1.compartment.oc1..aaaaaaaa7rxjpnxxcqparwvybqb3ocpiadljmtfnp5rq35yqib6vvl64pxlq\"\n",
    "                \n",
    "                deidentified_text = translate_and_deidentify(content, \"auto\", \"en\", compartment_id)\n",
    "                print(deidentified_text)\n",
    "\n",
    "                new_filename = filename.replace(\".txt\", \"_deidentified.txt\")\n",
    "                new_file_path = os.path.join(folder_path, new_filename)\n",
    "                \n",
    "                with open(new_file_path, 'w', encoding='utf-8') as new_file:\n",
    "                    new_file.write(deidentified_text)\n",
    "                print(f\"Archivo deidentificado guardado como: {new_filename}\")\n",
    "\n",
    "                \n"
   ]
  },
  {
   "cell_type": "code",
   "execution_count": 14,
   "metadata": {},
   "outputs": [],
   "source": [
    "\n",
    "\n",
    "\n",
    "def upload_to_bucket(namespace, bucket_name):\n",
    "\n",
    "    CONFIG_PROFILE = \"DEFAULT\"\n",
    "    config = oci.config.from_file('/home/ubuntu/.oci/config', CONFIG_PROFILE) \n",
    "    object_storage = oci.object_storage.ObjectStorageClient(config)\n",
    "    \n",
    "    if not os.path.isdir(folder_path):\n",
    "        raise ValueError(f\"Folder '{folder_path}' does not exist\")\n",
    "    \n",
    "    for filename in os.listdir(folder_path):\n",
    "        if filename.endswith(\"_deidentified.txt\"):\n",
    "            file_path = os.path.join(\"txt_downloaded\", filename)\n",
    "            # Sube el archivo al bucket\n",
    "            with open(file_path, 'rb') as f:\n",
    "                obj = object_storage.put_object(namespace, bucket_name, \"TRG_TEXT/\"+filename, f)\n",
    "            print(f\"Archivo subido al bucket: {filename}\")"
   ]
  },
  {
   "cell_type": "code",
   "execution_count": 15,
   "metadata": {},
   "outputs": [
    {
     "name": "stdout",
     "output_type": "stream",
     "text": [
      "TEXT_1.txt\n",
      "Anna Nowak, lat 28, mieszka w Krakowie przy ul. Wrzosowa 5/2. Pracuje jako nauczycielka w szkole podstawowej nr 10 w Krakowie. Jej adres e-mail to anna.nowak@example.com, a numer telefonu to +48 500 234 567. Anna ma psa o imieniu Burek i lubi jeździć na rowerze w wolnym czasie. W zeszłym miesiącu Anna wybrała się na wakacje do Gdańska.\n",
      "\n",
      "Text translated: Anna Nowak, 28 years old, lives in Krakow at ul. Heather 5/2. She works as a teacher at elementary school No. 10 in Krakow. Her email address is anna.nowak@example.com and her phone number is +48 500 234 567. Anna has a dog named Burek and enjoys cycling in her free time. Last month, Anna went on holiday to Gdańsk.\n",
      "\n",
      "XXXXXXXXXX, XXXXXXXX old, lives in Krakow at ul. Heather 5/2. She works as a teacher at elementary school No. 10 in Krakow. Her email address is XXXXXXXXXXXXXXXXXXXXXX and her phone number is XXXXXXXXXXXXXXX. XXXX has a dog named XXXXX and enjoys cycling in her free time. XXXXXXXXXX, XXXX went on holiday to Gdańsk.\n",
      "\n",
      "Archivo deidentificado guardado como: TEXT_1_deidentified.txt\n",
      "TEXT_2.txt\n",
      "Kasia i Tomek byli najlepszymi przyjaciółmi od dzieciństwa. Pewnego dnia postanowili wybrać się na wycieczkę do Gdańska. Kasia mieszka w Warszawie przy ul. Malwowa 15/3, a Tomek mieszka w Krakowie na ul. Kwiatowa 8/2. Kasia zadzwoniła do Tomka pod numer +48 500 111 222, aby zaprosić go na wspólne zwiedzanie. W trakcie wycieczki odwiedzili Zamek w Gdańsku i spacerowali po Starym Mieście. Kasia uwielbia robić zdjęcia, więc przez cały czas dokumentowała ich przygody. Tomek i Kasia wrócili do swoich miast z mnóstwem wspomnień i obietnicą, że znów się spotkają.\n",
      "\n",
      "Text translated: Kasia and Tomek have been best friends since childhood. One day they decided to go on a trip to Gdansk. Kasia lives in Warsaw at ul. Malwowa 15/3, and Tomek lives in Krakow on ul. Flower 8/2. Kasia called Tomek at +48 500 111 222 to invite him to a joint tour. During the tour, they visited the Castle in Gdańsk and walked around the Old Town. Kasia loves to take pictures, so she has documented their adventures all the time. Tomek and Kasia returned to their cities with a lot of memories and a promise that they would meet again.\n",
      "\n",
      "XXXXX and XXXXX have been best friends since childhood. XXXXXXX they decided to go on a trip to Gdansk. XXXXX lives in Warsaw at ul. Malwowa 15/3, and XXXXX lives in Krakow on ul. Flower 8/2. XXXXX called XXXXX at XXXXXXXXXXX 222 to invite him to a joint tour. During the tour, they visited the Castle in Gdańsk and walked around the Old Town. XXXXX loves to take pictures, so she has documented their adventures all the time. XXXXX and XXXXX returned to their cities with a lot of memories and a promise that they would meet again.\n",
      "\n",
      "Archivo deidentificado guardado como: TEXT_2_deidentified.txt\n",
      "TEXT_3.txt\n",
      "Raport Medyczny\n",
      "\n",
      "Imię i Nazwisko: Andrzej Kowalski\n",
      "Data urodzenia: 15 lutego 1985\n",
      "Adres: ul. Polna 22/3, 00-001 Warszawa\n",
      "Numer telefonu: +48 600 123 456\n",
      "Adres e-mail: andrzej.kowalski@example.com\n",
      "\n",
      "Pacjent zgłosił się na wizytę kontrolną w dniu 12 lipca 2024 roku. Po przeprowadzeniu badań diagnostycznych stwierdzono, że Andrzej ma wysokie ciśnienie krwi i zaleca się dalsze leczenie oraz zmiany w diecie. W badaniu wykryto również objawy astmy oskrzelowej, które wymagają dalszej terapii. Kolejna wizyta została zaplanowana na 12 sierpnia 2024 roku. \n",
      "\n",
      "Doktor: Dr. Janusz Nowak\n",
      "Specjalizacja: Kardiologia\n",
      "\n",
      "Text translated: Medical Report\n",
      "\n",
      "Name: Andrzej Kowalski\n",
      "Date of birth: 15 February 1985\n",
      "Address: ul. Field 22/3, 00-001 Warsaw\n",
      "Phone number: +48 600 123 456\n",
      "Email address: andrzej.kowalski@example.com\n",
      "\n",
      "The patient made an inspection visit on July 12, 2024. After conducting diagnostic tests, it was found that Andrzej has high blood pressure and further treatment and changes in diet are recommended. The study also found signs of bronchial asthma that require further therapy. The next visit is scheduled for August 12, 2024. \n",
      "\n",
      "Doctor: Dr. Janusz Nowak\n",
      "Specialty: Cardiology\n",
      "\n",
      "Medical Report\n",
      "\n",
      "Name: XXXXXXXXXXXXXXXX\n",
      "Date of birth: XXXXXXXXXXXXXXXX\n",
      "Address: XXXXXXXXXXXXXXXXXXXXXX Warsaw\n",
      "Phone number: XXX 600 123 456\n",
      "Email address: XXXXXXXXXXXXXXXXXXXXXXXXXXXX\n",
      "\n",
      "The patient made an inspection visit on XXXXXXXXXXXXX. After conducting diagnostic tests, it was found that XXXXXXX has high blood pressure and further treatment and changes in diet are recommended. The study also found signs of bronchial asthma that require further therapy. The next visit is scheduled for XXXXXXXXXXXXXXX. \n",
      "\n",
      "Doctor: Dr. XXXXXXXXXXXX\n",
      "Specialty: Cardiology\n",
      "\n",
      "Archivo deidentificado guardado como: TEXT_3_deidentified.txt\n",
      "Archivo subido al bucket: TEXT_1_deidentified.txt\n",
      "Archivo subido al bucket: TEXT_3_deidentified.txt\n",
      "Archivo subido al bucket: TEXT_2_deidentified.txt\n"
     ]
    }
   ],
   "source": [
    "folder_path = 'txt_downloaded'\n",
    "read_all_txt_files(folder_path)\n",
    "upload_to_bucket(\"frkok02ushb5\",\"Text-Anonymization-bucket\")"
   ]
  }
 ],
 "metadata": {
  "kernelspec": {
   "display_name": "base",
   "language": "python",
   "name": "python3"
  },
  "language_info": {
   "codemirror_mode": {
    "name": "ipython",
    "version": 3
   },
   "file_extension": ".py",
   "mimetype": "text/x-python",
   "name": "python",
   "nbconvert_exporter": "python",
   "pygments_lexer": "ipython3",
   "version": "3.10.14"
  }
 },
 "nbformat": 4,
 "nbformat_minor": 2
}
